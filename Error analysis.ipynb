{
 "cells": [
  {
   "cell_type": "code",
   "execution_count": 6,
   "id": "ed1011fe-57cc-4d4c-9057-558287df0fb7",
   "metadata": {},
   "outputs": [],
   "source": [
    "import numpy as np\n",
    "import pandas as pd"
   ]
  },
  {
   "cell_type": "markdown",
   "id": "7b68ae1a-c404-4d12-9450-637471e85306",
   "metadata": {},
   "source": [
    "## installing the packages"
   ]
  },
  {
   "cell_type": "code",
   "execution_count": 1,
   "id": "709d88da-33bb-4602-8ac8-befba4c02c89",
   "metadata": {},
   "outputs": [
    {
     "name": "stderr",
     "output_type": "stream",
     "text": [
      "C:\\Users\\Test\\anaconda3\\lib\\site-packages\\rpy2\\robjects\\packages.py:366: UserWarning: The symbol 'quartz' is not in this R namespace/package.\n",
      "  warnings.warn(\n"
     ]
    }
   ],
   "source": [
    "# pip install rpy2 to be able to run the following cells\n",
    "# pip install rpy2 \n",
    "%load_ext rpy2.ipython"
   ]
  },
  {
   "cell_type": "code",
   "execution_count": null,
   "id": "e826554e-e3ed-446d-a3e5-b5cbb3ae4747",
   "metadata": {},
   "outputs": [],
   "source": [
    "%%R\n",
    "# install the packges if this the first time running R on jupiter\n",
    "install.packages(\"plyr\", repos='http://cran.us.r-project.org')\n",
    "install.packages(\"tidyverse\", repos='http://cran.us.r-project.org')\n",
    "install.packages(\"effects\", repos='http://cran.us.r-project.org')"
   ]
  },
  {
   "cell_type": "code",
   "execution_count": 2,
   "id": "310af8fc-5c57-435f-a34a-ec444dffb7e0",
   "metadata": {},
   "outputs": [
    {
     "name": "stderr",
     "output_type": "stream",
     "text": [
      "R[write to console]: -- Attaching packages --------------------------------------- tidyverse 1.3.1 --\n",
      "\n",
      "R[write to console]: v ggplot2 3.3.5     v purrr   0.3.4\n",
      "v tibble  3.1.6     v dplyr   1.0.8\n",
      "v tidyr   1.2.0     v stringr 1.4.0\n",
      "v readr   2.1.2     v forcats 0.5.1\n",
      "\n",
      "R[write to console]: -- Conflicts ------------------------------------------ tidyverse_conflicts() --\n",
      "x dplyr::arrange()   masks plyr::arrange()\n",
      "x purrr::compact()   masks plyr::compact()\n",
      "x dplyr::count()     masks plyr::count()\n",
      "x dplyr::failwith()  masks plyr::failwith()\n",
      "x dplyr::filter()    masks stats::filter()\n",
      "x dplyr::id()        masks plyr::id()\n",
      "x dplyr::lag()       masks stats::lag()\n",
      "x dplyr::mutate()    masks plyr::mutate()\n",
      "x dplyr::rename()    masks plyr::rename()\n",
      "x dplyr::summarise() masks plyr::summarise()\n",
      "x dplyr::summarize() masks plyr::summarize()\n",
      "\n",
      "R[write to console]: Loading required package: carData\n",
      "\n",
      "R[write to console]: lattice theme set by effectsTheme()\n",
      "See ?effectsTheme for details.\n",
      "\n"
     ]
    }
   ],
   "source": [
    "%%R\n",
    "\n",
    "# load the librarys\n",
    "library(plyr)\n",
    "library(tidyverse)\n",
    "library(effects)"
   ]
  },
  {
   "cell_type": "markdown",
   "id": "93bb4685-1106-480a-86f7-d2c6e7fca97c",
   "metadata": {},
   "source": [
    "## Set the correct working directory and import the files"
   ]
  },
  {
   "cell_type": "code",
   "execution_count": null,
   "id": "786bff06-6a81-4793-b6b1-8613a85e43f0",
   "metadata": {},
   "outputs": [],
   "source": [
    "# set the correct working directory where the 6 csv files are stored\n",
    "%%R \n",
    "setwd(\"Desktop/Test ALgorithems/\")"
   ]
  },
  {
   "cell_type": "code",
   "execution_count": 11,
   "id": "4f5baaf7-518d-424d-bb47-b922815546f5",
   "metadata": {},
   "outputs": [],
   "source": [
    "%%R\n",
    "\n",
    "# importing all the files\n",
    "X5_clicks_downsampled = read.table(\"5_clicks_downsampled.csv\", header = T, sep=',')\n",
    "X10_clicks_downsampled = read.table(\"10_clicks_downsampled.csv\", header = T, sep=',')\n",
    "X15_clicks_downsampled = read.table(\"15_clicks_downsampled.csv\", header = T, sep=',')\n",
    "X5_clicks_no_downsampled = read.table(\"5_clicks_no_downsample.csv\", header = T, sep=',')\n",
    "X10_clicks_no_downsampled = read.table(\"10_clicks_no_downsample.csv\", header = T, sep=',')\n",
    "X15_clicks_no_downsampled = read.table(\"15_clicks_no_downsampled.csv\", header = T, sep=',')"
   ]
  },
  {
   "cell_type": "markdown",
   "id": "290445d9-feba-4f43-aa39-1088c847bffb",
   "metadata": {},
   "source": [
    "## Cleaning and formatting the files"
   ]
  },
  {
   "cell_type": "code",
   "execution_count": 12,
   "id": "6de2b3e3-a914-4742-8984-4d3e8aa86ea9",
   "metadata": {},
   "outputs": [],
   "source": [
    "%%R\n",
    "\n",
    "# cleaning and formatting the files\n",
    "\n",
    "# the 5 clicks buy\n",
    "X5_clicks_downsampled$X <- NULL\n",
    "X5_clicks_downsampled$num_of_clicks <- \"5_clicks\"\n",
    "colnames(X5_clicks_downsampled)[1] <- \"Predicted_Labels\"\n",
    "colnames(X5_clicks_downsampled)[2] <- \"True_Labels\"\n",
    "colnames(X5_clicks_downsampled)[3] <- \"Accurate\"\n",
    "colnames(X5_clicks_downsampled)[4] <-  \"Session_Length\"\n",
    "\n",
    "# the 10 clicks buy\n",
    "X10_clicks_downsampled$X <- NULL\n",
    "X10_clicks_downsampled$num_of_clicks <- \"10_clicks\"\n",
    "colnames(X10_clicks_downsampled)[1] <- \"Predicted_Labels\"\n",
    "colnames(X10_clicks_downsampled)[2] <- \"True_Labels\"\n",
    "colnames(X10_clicks_downsampled)[3] <- \"Accurate\"\n",
    "colnames(X10_clicks_downsampled)[4] <-  \"Session_Length\"\n",
    "\n",
    "# the 15 clicks buy\n",
    "X15_clicks_downsampled$X <- NULL\n",
    "X15_clicks_downsampled$num_of_clicks <- \"15_clicks\"\n",
    "colnames(X15_clicks_downsampled)[1] <- \"Predicted_Labels\"\n",
    "colnames(X15_clicks_downsampled)[2] <- \"True_Labels\"\n",
    "colnames(X15_clicks_downsampled)[3] <- \"Accurate\"\n",
    "colnames(X15_clicks_downsampled)[4] <-  \"Session_Length\"\n",
    "\n",
    "# the 5 clicks no buy\n",
    "X5_clicks_no_downsampled$X <- NULL\n",
    "X5_clicks_no_downsampled$num_of_clicks <- \"5_clicks\"\n",
    "colnames(X5_clicks_no_downsampled)[1] <- \"Predicted_Labels\"\n",
    "colnames(X5_clicks_no_downsampled)[2] <- \"True_Labels\"\n",
    "colnames(X5_clicks_no_downsampled)[3] <- \"Accurate\"\n",
    "colnames(X5_clicks_no_downsampled)[4] <-  \"Session_Length\"\n",
    "\n",
    "# the 10 clicks no buy\n",
    "X10_clicks_no_downsampled$X <- NULL\n",
    "X10_clicks_no_downsampled$num_of_clicks <- \"10_clicks\"\n",
    "colnames(X10_clicks_no_downsampled)[1] <- \"Predicted_Labels\"\n",
    "colnames(X10_clicks_no_downsampled)[2] <- \"True_Labels\"\n",
    "colnames(X10_clicks_no_downsampled)[3] <- \"Accurate\"\n",
    "colnames(X10_clicks_no_downsampled)[4] <-  \"Session_Length\"\n",
    "\n",
    "# the 15 clicks no buy\n",
    "X15_clicks_no_downsampled$X <- NULL\n",
    "X15_clicks_no_downsampled$num_of_clicks <- \"15_clicks\"\n",
    "colnames(X15_clicks_no_downsampled)[1] <- \"Predicted_Labels\"\n",
    "colnames(X15_clicks_no_downsampled)[2] <- \"True_Labels\"\n",
    "colnames(X15_clicks_no_downsampled)[3] <- \"Accurate\"\n",
    "colnames(X15_clicks_no_downsampled)[4] <-  \"Session_Length\""
   ]
  },
  {
   "cell_type": "markdown",
   "id": "0de45c11-b772-4a5d-99e0-ac9c5bdf34ea",
   "metadata": {},
   "source": [
    "## Combing the data frames"
   ]
  },
  {
   "cell_type": "code",
   "execution_count": 15,
   "id": "a8bf7574-b31a-49b0-bc12-383eb7a146b2",
   "metadata": {},
   "outputs": [
    {
     "name": "stdout",
     "output_type": "stream",
     "text": [
      "  Predicted_Labels True_Labels Accurate Session_Length num_of_clicks\n",
      "1                0           0        1             14      5_clicks\n",
      "2                1           0        0             10      5_clicks\n",
      "3                0           0        1             15      5_clicks\n",
      "4                0           0        1             12      5_clicks\n",
      "5                1           0        0             21      5_clicks\n",
      "6                1           0        0             10      5_clicks\n"
     ]
    }
   ],
   "source": [
    "%%R\n",
    "\n",
    "# combine the 6 data frames to two buy and no_buy data frames\n",
    "buy <- rbind(X5_clicks_downsampled, X10_clicks_downsampled, X15_clicks_downsampled)\n",
    "no_buy <- rbind(X5_clicks_no_downsampled, X10_clicks_no_downsampled, X15_clicks_no_downsampled)\n",
    "\n",
    "head(buy)"
   ]
  },
  {
   "cell_type": "markdown",
   "id": "473a3b91-7799-42b6-bf50-b298120ca3df",
   "metadata": {},
   "source": [
    "## Fitting the data freames in a logistic regression"
   ]
  },
  {
   "cell_type": "code",
   "execution_count": 18,
   "id": "67fa4f7a-0b9f-4051-9511-40eec09a17df",
   "metadata": {},
   "outputs": [],
   "source": [
    "%%R\n",
    "\n",
    "# test the logistic regression on the buy and no_buy data frames\n",
    "buy_glm.fit <- glm(Accurate ~ True_Labels + Session_Length + num_of_clicks, data = buy, family = binomial)\n",
    "no_buy_glm.fit <- glm(Accurate ~ True_Labels + Session_Length + num_of_clicks, data = no_buy, family = binomial)"
   ]
  },
  {
   "cell_type": "code",
   "execution_count": 19,
   "id": "a2518a8b-6817-4a34-ae78-3817100cd7b1",
   "metadata": {},
   "outputs": [
    {
     "name": "stdout",
     "output_type": "stream",
     "text": [
      "\n",
      "Call:\n",
      "glm(formula = Accurate ~ True_Labels + Session_Length + num_of_clicks, \n",
      "    family = binomial, data = buy)\n",
      "\n",
      "Deviance Residuals: \n",
      "    Min       1Q   Median       3Q      Max  \n",
      "-2.5321  -0.5067  -0.4600   0.7443   2.3131  \n",
      "\n",
      "Coefficients:\n",
      "                         Estimate Std. Error z value Pr(>|z|)    \n",
      "(Intercept)            -1.8118677  0.0334276 -54.203   <2e-16 ***\n",
      "True_Labels             3.2592636  0.0321876 101.258   <2e-16 ***\n",
      "Session_Length         -0.0117396  0.0009115 -12.880   <2e-16 ***\n",
      "num_of_clicks15_clicks -0.0406162  0.0367870  -1.104     0.27    \n",
      "num_of_clicks5_clicks   1.7874452  0.0303533  58.888   <2e-16 ***\n",
      "---\n",
      "Signif. codes:  0 '***' 0.001 '**' 0.01 '*' 0.05 '.' 0.1 ' ' 1\n",
      "\n",
      "(Dispersion parameter for binomial family taken to be 1)\n",
      "\n",
      "    Null deviance: 64581  on 47785  degrees of freedom\n",
      "Residual deviance: 44899  on 47781  degrees of freedom\n",
      "AIC: 44909\n",
      "\n",
      "Number of Fisher Scoring iterations: 5\n",
      "\n"
     ]
    }
   ],
   "source": [
    "%%R\n",
    "\n",
    "# summerizing the result for the buy group\n",
    "summary(buy_glm.fit)"
   ]
  },
  {
   "cell_type": "code",
   "execution_count": 20,
   "id": "09003f51-a7a0-481a-9410-3687051bf1bb",
   "metadata": {},
   "outputs": [
    {
     "name": "stdout",
     "output_type": "stream",
     "text": [
      "\n",
      "Call:\n",
      "glm(formula = Accurate ~ True_Labels + Session_Length + num_of_clicks, \n",
      "    family = binomial, data = no_buy)\n",
      "\n",
      "Deviance Residuals: \n",
      "    Min       1Q   Median       3Q      Max  \n",
      "-1.9376  -1.1357   0.5791   0.8258   1.6590  \n",
      "\n",
      "Coefficients:\n",
      "                         Estimate Std. Error z value Pr(>|z|)    \n",
      "(Intercept)             0.9141244  0.0263508  34.691   <2e-16 ***\n",
      "True_Labels            -1.7908439  0.0232323 -77.084   <2e-16 ***\n",
      "Session_Length         -0.0014782  0.0007739  -1.910   0.0561 .  \n",
      "num_of_clicks15_clicks  0.0425398  0.0278862   1.525   0.1271    \n",
      "num_of_clicks5_clicks   0.8073649  0.0252379  31.990   <2e-16 ***\n",
      "---\n",
      "Signif. codes:  0 '***' 0.001 '**' 0.01 '*' 0.05 '.' 0.1 ' ' 1\n",
      "\n",
      "(Dispersion parameter for binomial family taken to be 1)\n",
      "\n",
      "    Null deviance: 60618  on 47785  degrees of freedom\n",
      "Residual deviance: 52973  on 47781  degrees of freedom\n",
      "AIC: 52983\n",
      "\n",
      "Number of Fisher Scoring iterations: 4\n",
      "\n"
     ]
    }
   ],
   "source": [
    "%%R\n",
    "\n",
    "# summerizing the result for the on_buy group\n",
    "summary(no_buy_glm.fit)"
   ]
  },
  {
   "cell_type": "markdown",
   "id": "d2e6e861-4e98-4710-82e5-d737b70a15dc",
   "metadata": {},
   "source": [
    "## Making the plots"
   ]
  },
  {
   "cell_type": "code",
   "execution_count": 33,
   "id": "8a2b0b6d-65fc-4b40-9162-9b5548b4c623",
   "metadata": {},
   "outputs": [],
   "source": [
    "%%R\n",
    "\n",
    "# create the buy_plot \n",
    "buy_glm.fit.effects = as.data.frame(\n",
    "  Effect(c(\"True_Labels\", \"Session_Length\", \"num_of_clicks\"), buy_glm.fit,\n",
    "         xlevels = list(Session_Length=sort(unique(buy$Session_Length))), \n",
    "         confidence.level=.99))\n",
    "\n",
    "buy_glm.fit.effects$num_of_clicks =factor(buy_glm.fit.effects$num_of_clicks, \n",
    "                                      levels = c(\"5_clicks\", \"10_clicks\", \"15_clicks\"))\n",
    "\n",
    "\n",
    "buy_plot <- ggplot(data = buy_glm.fit.effects, aes(Session_Length, fit, color=num_of_clicks, fill=num_of_clicks)) +\n",
    "                    geom_smooth() +\n",
    "                    labs(y = 'Accuracy', x = \"sequence length\") +\n",
    "                    ggtitle(\"buy_plot = uracy as a function of length, for diffrent numbers of clicks\") +\n",
    "                    scale_y_continuous(limits = c(0,1)) + \n",
    "                    scale_x_continuous(limits = c(5, 160)) +\n",
    "                    theme(legend.direction = \"horizontal\", legend.position = \"bottom\", legend.box = \"horizontal\", legend.key.height = unit(0.5, \"cm\"), legend.key.width = unit(1, \"cm\"))"
   ]
  },
  {
   "cell_type": "code",
   "execution_count": 34,
   "id": "79dd8dba-3555-414e-b0a5-d38ce6df2122",
   "metadata": {},
   "outputs": [],
   "source": [
    "%%R\n",
    "\n",
    "# create the no_buy_plot \n",
    "no_buy_glm.fit.effects = as.data.frame(\n",
    "  Effect(c(\"True_Labels\", \"Session_Length\", \"num_of_clicks\"), no_buy_glm.fit,\n",
    "         xlevels = list(Session_Length=sort(unique(no_buy$Session_Length))), \n",
    "         confidence.level=.99))\n",
    "\n",
    "no_buy_glm.fit.effects$num_of_clicks =factor(no_buy_glm.fit.effects$num_of_clicks, \n",
    "                                      levels = c(\"5_clicks\", \"10_clicks\", \"15_clicks\"))\n",
    "\n",
    "\n",
    "no_buy_plot <- ggplot(data = no_buy_glm.fit.effects, aes(Session_Length, fit, color=num_of_clicks, fill=num_of_clicks)) +\n",
    "                    geom_smooth() +\n",
    "                    labs(y = 'Accuracy', x = \"sequence length\") +\n",
    "                    ggtitle(\"no_buy_plot = Accuracy as a function of length, for diffrent numbers of clicks\") +\n",
    "                    scale_y_continuous(limits = c(0,1)) + \n",
    "                    scale_x_continuous(limits = c(5, 160)) +\n",
    "                    theme(legend.direction = \"horizontal\", legend.position = \"bottom\", legend.box = \"horizontal\", legend.key.height = unit(0.5, \"cm\"), legend.key.width = unit(1, \"cm\"))"
   ]
  },
  {
   "cell_type": "markdown",
   "id": "3499f918-e7ab-43a9-b3d9-99454471f4f0",
   "metadata": {},
   "source": [
    "## Printing the Plots"
   ]
  },
  {
   "cell_type": "code",
   "execution_count": 35,
   "id": "a5ee5553-a725-4c16-9bb0-f4a4c2c69419",
   "metadata": {},
   "outputs": [
    {
     "name": "stderr",
     "output_type": "stream",
     "text": [
      "R[write to console]: `geom_smooth()` using method = 'loess' and formula 'y ~ x'\n",
      "\n"
     ]
    },
    {
     "data": {
      "image/png": "[encoded data removed]"
     },
     "metadata": {},
     "output_type": "display_data"
    }
   ],
   "source": [
    "%%R\n",
    "# print the plot\n",
    "buy_plot"
   ]
  },
  {
   "cell_type": "code",
   "execution_count": 36,
   "id": "7dff5f0f-5cce-47af-9e74-ef1077066375",
   "metadata": {},
   "outputs": [
    {
     "name": "stderr",
     "output_type": "stream",
     "text": [
      "R[write to console]: `geom_smooth()` using method = 'loess' and formula 'y ~ x'\n",
      "\n"
     ]
    },
    {
     "data": {
      "image/png": "[encoded data removed]"
     },
     "metadata": {},
     "output_type": "display_data"
    }
   ],
   "source": [
    "%%R\n",
    "\n",
    "# print the plot\n",
    "no_buy_plot"
   ]
  },
  {
   "cell_type": "code",
   "execution_count": null,
   "id": "2373ee9f-d2d6-4aac-a2ba-af71377f96fd",
   "metadata": {},
   "outputs": [],
   "source": []
  }
 ],
 "metadata": {
  "kernelspec": {
   "display_name": "Python 3 (ipykernel)",
   "language": "python",
   "name": "python3"
  },
  "language_info": {
   "codemirror_mode": {
    "name": "ipython",
    "version": 3
   },
   "file_extension": ".py",
   "mimetype": "text/x-python",
   "name": "python",
   "nbconvert_exporter": "python",
   "pygments_lexer": "ipython3",
   "version": "3.9.7"
  }
 },
 "nbformat": 4,
 "nbformat_minor": 5
}
