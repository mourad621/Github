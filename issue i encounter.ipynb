{
 "cells": [
  {
   "cell_type": "markdown",
   "id": "b52ce4c4-cb2b-41ff-81b7-566b742334dc",
   "metadata": {},
   "source": [
    "## Can't continue see explanation below"
   ]
  },
  {
   "cell_type": "code",
   "execution_count": null,
   "id": "9d29cf27-5d89-4c18-9c7f-53490d120710",
   "metadata": {},
   "outputs": [],
   "source": [
    "import pandas as pd \n",
    "import numpy as np \n",
    "from sklearn.model_selection import train_test_split"
   ]
  },
  {
   "cell_type": "code",
   "execution_count": 5,
   "id": "51baa2f6-be00-4743-8920-e79c62e2463c",
   "metadata": {},
   "outputs": [
    {
     "data": {
      "text/html": [
       "<div>\n",
       "<style scoped>\n",
       "    .dataframe tbody tr th:only-of-type {\n",
       "        vertical-align: middle;\n",
       "    }\n",
       "\n",
       "    .dataframe tbody tr th {\n",
       "        vertical-align: top;\n",
       "    }\n",
       "\n",
       "    .dataframe thead th {\n",
       "        text-align: right;\n",
       "    }\n",
       "</style>\n",
       "<table border=\"1\" class=\"dataframe\">\n",
       "  <thead>\n",
       "    <tr style=\"text-align: right;\">\n",
       "      <th></th>\n",
       "      <th>session_id_hash</th>\n",
       "      <th>product_action</th>\n",
       "      <th>purchase</th>\n",
       "      <th>len</th>\n",
       "      <th>session</th>\n",
       "    </tr>\n",
       "  </thead>\n",
       "  <tbody>\n",
       "    <tr>\n",
       "      <th>0</th>\n",
       "      <td>00000114e1075962f022114fcfc17f2d874e694ac5d201...</td>\n",
       "      <td>['view', 'view', 'view', 'view', 'view', 'view...</td>\n",
       "      <td>0</td>\n",
       "      <td>15</td>\n",
       "      <td>[1, 1, 1, 1, 1, 1, 1, 2, 1, 1, 2, 1, 1, 2, 1]</td>\n",
       "    </tr>\n",
       "    <tr>\n",
       "      <th>1</th>\n",
       "      <td>0000913afa22ba9c31efb992bcf6388b0bbfe28056bef3...</td>\n",
       "      <td>['view', 'detail', 'view', 'view', 'view', 'de...</td>\n",
       "      <td>0</td>\n",
       "      <td>120</td>\n",
       "      <td>[1, 2, 1, 1, 1, 2, 1, 2, 1, 4, 1, 1, 1, 1, 2, ...</td>\n",
       "    </tr>\n",
       "    <tr>\n",
       "      <th>2</th>\n",
       "      <td>00010d84aca1294479304044207fd268f63228844779c6...</td>\n",
       "      <td>['view', 'view', 'view', 'view', 'view', 'view...</td>\n",
       "      <td>0</td>\n",
       "      <td>24</td>\n",
       "      <td>[1, 1, 1, 1, 1, 1, 1, 1, 2, 1, 4, 1, 1, 2, 1, ...</td>\n",
       "    </tr>\n",
       "    <tr>\n",
       "      <th>3</th>\n",
       "      <td>0001368d732951035a7ef7ef42b345a5c50b7d66966749...</td>\n",
       "      <td>['view', 'view', 'detail', 'add', 'view', 'vie...</td>\n",
       "      <td>0</td>\n",
       "      <td>13</td>\n",
       "      <td>[1, 1, 2, 4, 1, 1, 1, 1, 1, 1, 1, 1, 1]</td>\n",
       "    </tr>\n",
       "    <tr>\n",
       "      <th>4</th>\n",
       "      <td>0001c180fb742f96ff388ba8f67a568e6fa66aed30d0d2...</td>\n",
       "      <td>['remove', 'view', 'detail', 'view', 'view', '...</td>\n",
       "      <td>1</td>\n",
       "      <td>23</td>\n",
       "      <td>[3, 1, 2, 1, 1, 1, 3, 3, 3, 1, 1, 3, 1, 3, 1, ...</td>\n",
       "    </tr>\n",
       "  </tbody>\n",
       "</table>\n",
       "</div>"
      ],
      "text/plain": [
       "                                     session_id_hash  \\\n",
       "0  00000114e1075962f022114fcfc17f2d874e694ac5d201...   \n",
       "1  0000913afa22ba9c31efb992bcf6388b0bbfe28056bef3...   \n",
       "2  00010d84aca1294479304044207fd268f63228844779c6...   \n",
       "3  0001368d732951035a7ef7ef42b345a5c50b7d66966749...   \n",
       "4  0001c180fb742f96ff388ba8f67a568e6fa66aed30d0d2...   \n",
       "\n",
       "                                      product_action  purchase  len  \\\n",
       "0  ['view', 'view', 'view', 'view', 'view', 'view...         0   15   \n",
       "1  ['view', 'detail', 'view', 'view', 'view', 'de...         0  120   \n",
       "2  ['view', 'view', 'view', 'view', 'view', 'view...         0   24   \n",
       "3  ['view', 'view', 'detail', 'add', 'view', 'vie...         0   13   \n",
       "4  ['remove', 'view', 'detail', 'view', 'view', '...         1   23   \n",
       "\n",
       "                                             session  \n",
       "0      [1, 1, 1, 1, 1, 1, 1, 2, 1, 1, 2, 1, 1, 2, 1]  \n",
       "1  [1, 2, 1, 1, 1, 2, 1, 2, 1, 4, 1, 1, 1, 1, 2, ...  \n",
       "2  [1, 1, 1, 1, 1, 1, 1, 1, 2, 1, 4, 1, 1, 2, 1, ...  \n",
       "3            [1, 1, 2, 4, 1, 1, 1, 1, 1, 1, 1, 1, 1]  \n",
       "4  [3, 1, 2, 1, 1, 1, 3, 3, 3, 1, 1, 3, 1, 3, 1, ...  "
      ]
     },
     "execution_count": 5,
     "metadata": {},
     "output_type": "execute_result"
    }
   ],
   "source": [
    "df = pd.read_csv(\"filtered_data.csv\")\n",
    "df.head()"
   ]
  },
  {
   "cell_type": "code",
   "execution_count": 10,
   "id": "3b995f11-b691-4172-83a9-f805b300f729",
   "metadata": {},
   "outputs": [],
   "source": [
    "X_train, X_test, y_train, y_test = train_test_split(df[\"session\"], df[\"purchase\"], test_size=0.2, random_state = 123)"
   ]
  },
  {
   "cell_type": "code",
   "execution_count": 11,
   "id": "8f1bce50-609b-4013-aa79-cfd5f04b00d2",
   "metadata": {},
   "outputs": [
    {
     "data": {
      "text/plain": [
       "pandas.core.series.Series"
      ]
     },
     "execution_count": 11,
     "metadata": {},
     "output_type": "execute_result"
    }
   ],
   "source": [
    "type(X_train)"
   ]
  },
  {
   "cell_type": "code",
   "execution_count": 12,
   "id": "e07918b4-45b9-405e-aa9a-f7a813cc4f9b",
   "metadata": {},
   "outputs": [],
   "source": [
    "X_train = X_train.to_numpy()"
   ]
  },
  {
   "cell_type": "code",
   "execution_count": 13,
   "id": "94526c7b-3e09-4f8e-8ca4-1c28948b3653",
   "metadata": {},
   "outputs": [],
   "source": [
    "X_test  = X_test.to_numpy()"
   ]
  },
  {
   "cell_type": "code",
   "execution_count": 14,
   "id": "847bce6f-6006-48ba-b940-46d3f6fc2ff1",
   "metadata": {},
   "outputs": [],
   "source": [
    "y_train  = y_train.to_numpy()"
   ]
  },
  {
   "cell_type": "code",
   "execution_count": 15,
   "id": "ca9448bf-b51d-4290-b887-5b2068ac53e6",
   "metadata": {},
   "outputs": [],
   "source": [
    "y_test  = y_test.to_numpy()"
   ]
  },
  {
   "cell_type": "code",
   "execution_count": 16,
   "id": "26c90e2e-3b59-440a-826b-eb157bd5ad34",
   "metadata": {},
   "outputs": [
    {
     "data": {
      "text/plain": [
       "array(['[1, 2, 2, 1, 1, 2, 4, 1, 2, 2, 1, 4, 2, 1, 2, 1, 1, 1, 2, 1, 1, 1, 3, 1]',\n",
       "       '[1, 1, 2, 1, 1, 1, 1, 1, 2, 1, 1, 1, 1]', '[1, 1, 1, 1, 1]', ...,\n",
       "       '[1, 1, 1, 1, 1, 2, 1, 1]',\n",
       "       '[2, 1, 2, 1, 2, 1, 1, 2, 1, 2, 2, 1, 2, 1, 2, 1, 1, 1, 2, 1, 1, 1, 1, 1, 1, 1, 2, 2, 1, 2, 1, 1, 1, 1, 1, 1, 1, 1, 1, 1, 1, 1, 2, 1, 2, 1, 2, 2, 1, 2, 1, 1, 1, 2, 1, 2, 2, 1, 1, 1, 2, 1, 2, 1, 1, 1, 1, 1, 1, 1, 2, 1, 1, 1, 1, 2, 1, 1, 2, 2, 1, 1, 1, 2, 1, 1, 1, 1, 1, 2, 1, 2, 4, 1, 1, 1, 2, 2, 1, 1, 3, 1, 1, 2]',\n",
       "       '[1, 1, 2, 1, 1, 2, 1, 2, 2, 1, 1, 2, 1]'], dtype=object)"
      ]
     },
     "execution_count": 16,
     "metadata": {},
     "output_type": "execute_result"
    }
   ],
   "source": [
    "X_test"
   ]
  },
  {
   "cell_type": "code",
   "execution_count": 17,
   "id": "219408a5-cbcc-4cf1-91fd-addc39f917f9",
   "metadata": {},
   "outputs": [
    {
     "data": {
      "text/plain": [
       "numpy.ndarray"
      ]
     },
     "execution_count": 17,
     "metadata": {},
     "output_type": "execute_result"
    }
   ],
   "source": [
    "type(X_train)"
   ]
  },
  {
   "cell_type": "markdown",
   "id": "b8dc4e3f-6939-4942-a02d-9e88c54af2c5",
   "metadata": {},
   "source": [
    "## how do i remove the ' between the arrays ?"
   ]
  },
  {
   "cell_type": "code",
   "execution_count": null,
   "id": "9c99dec2-0ba0-4711-b933-c148effc56eb",
   "metadata": {},
   "outputs": [],
   "source": []
  }
 ],
 "metadata": {
  "kernelspec": {
   "display_name": "Python 3 (ipykernel)",
   "language": "python",
   "name": "python3"
  },
  "language_info": {
   "codemirror_mode": {
    "name": "ipython",
    "version": 3
   },
   "file_extension": ".py",
   "mimetype": "text/x-python",
   "name": "python",
   "nbconvert_exporter": "python",
   "pygments_lexer": "ipython3",
   "version": "3.9.7"
  }
 },
 "nbformat": 4,
 "nbformat_minor": 5
}
